{
  "cells": [
    {
      "cell_type": "markdown",
      "metadata": {},
      "source": [
        "# Ejercicio: Uso de funciones en Python"
      ]
    },
    {
      "cell_type": "markdown",
      "metadata": {},
      "source": [
        "### Ejercicio 1: Trabajar con argumentos en funciones\n",
        "\n",
        "Los argumentos requeridos en las funciones se utilizan cuando las funciones necesitan que esos argumentos funcionen correctamente. En este ejercicio, construirás un informe de combustible que requiere información de varias ubicaciones de combustible en todo el cohete.\n",
        "\n"
      ]
    },
    {
      "cell_type": "markdown",
      "metadata": {},
      "source": [
        "> **TIP**\n",
        "> Dedica unos minutos para tratar de encontrar una solución. Luego desplázate hacia abajo hasta la parte inferior para ver si has logrado compilar el programa de acuerdo con las especificaciones\n",
        "\n",
        "Comienza por crear una función que necesite tres lecturas de combustible y devuelva un informe:"
      ]
    },
    {
      "cell_type": "code",
      "execution_count": 14,
      "metadata": {},
      "outputs": [],
      "source": [
        "# Función para leer 3 tanques de combustible y muestre el promedio\n",
        "\n",
        "def reporte(lectur1,lectur2,lectur3):\n",
        "    promedio=(lectur1+lectur2+lectur3)/3\n",
        "    return \"\"\"Reporte de combustible en la nave:\n",
        "    \\tContenido del primer tanque: {0}\n",
        "    \\tContenido del segundo tanque: {1}\n",
        "    \\tContenido del tercer tanque: {2}\n",
        "Promedio de combustible en los tanques: {3}\"\"\".format(lectur1,lectur2,lectur3,promedio)"
      ]
    },
    {
      "cell_type": "markdown",
      "metadata": {},
      "source": [
        "Ahora que hemos definido la función de informes, vamos a comprobarlo. Para esta misión, los tanques no están llenos:"
      ]
    },
    {
      "cell_type": "code",
      "execution_count": 17,
      "metadata": {},
      "outputs": [
        {
          "name": "stdout",
          "output_type": "stream",
          "text": [
            "Reporte de combustible en la nave:\n",
            "    \tContenido del primer tanque: 30\n",
            "    \tContenido del segundo tanque: 60\n",
            "    \tContenido del tercer tanque: 90\n",
            "Promedio de combustible en los tanques: 60.0\n"
          ]
        }
      ],
      "source": [
        "# Llamamos a la función que genera el reporte print(funcion(tanque1, tanque2, tanque3))\n",
        "\n",
        "print(reporte(30,60,90))"
      ]
    },
    {
      "cell_type": "markdown",
      "metadata": {},
      "source": [
        "En lugar de simplemente crear el informe, la función también está calculando el promedio. Mejora la legibilidad extrayendo el cálculo promedio de la función en una nueva función para que el promedio se pueda hacer de forma independiente:"
      ]
    },
    {
      "cell_type": "code",
      "execution_count": 18,
      "metadata": {},
      "outputs": [],
      "source": [
        "# Función promedio \n",
        "\n",
        "def promedio(auxi):\n",
        "    promedio=sum(auxi)/len(auxi)\n",
        "    return promedio"
      ]
    },
    {
      "cell_type": "markdown",
      "metadata": {},
      "source": [
        "Ahora actualiza la función de informes para llamando a la nueva función del promedio:\n"
      ]
    },
    {
      "cell_type": "code",
      "execution_count": 20,
      "metadata": {},
      "outputs": [
        {
          "name": "stdout",
          "output_type": "stream",
          "text": [
            "Reporte de combustible en la nave:\n",
            "    \tContenido del primer tanque: 30\n",
            "    \tContenido del segundo tanque: 60\n",
            "    \tContenido del tercer tanque: 90\n",
            "Promedio de combustible en los tanques: 60.0\n"
          ]
        }
      ],
      "source": [
        "# Actualiza la función\n",
        "\n",
        "def reporte(lectur1,lectur2,lectur3):\n",
        "    return \"\"\"Reporte de combustible en la nave:\n",
        "    \\tContenido del primer tanque: {0}\n",
        "    \\tContenido del segundo tanque: {1}\n",
        "    \\tContenido del tercer tanque: {2}\n",
        "Promedio de combustible en los tanques: {3}\"\"\".format(lectur1,lectur2,lectur3,promedio([lectur1,lectur2,lectur3]))\n",
        "\n",
        "print(reporte(30,60,90))"
      ]
    },
    {
      "cell_type": "markdown",
      "metadata": {},
      "source": [
        "> Recuerda: Lo importante es intentarlo, puedes auxiliarte de internet, libros, etc. El objetivo de una kata es la comprobación de la comprensión de la lección y su aplicación inmediata a la resolución de problemas. Go for it!"
      ]
    },
    {
      "cell_type": "markdown",
      "metadata": {},
      "source": [
        "## Ejercicio 2: Trabajo con argumentos de palabra clave"
      ]
    },
    {
      "cell_type": "markdown",
      "metadata": {},
      "source": [
        "### Ejercicio : Trabajar con argumentos de palabras clave en funciones\n",
        "En este ejercicio, construirás un informe de cohete que requiere varias piezas de información, como el tiempo hasta el destino, el combustible a la izquierda y el nombre del destino. Comienza por crear una función que creará un informe preciso de la misión:"
      ]
    },
    {
      "cell_type": "code",
      "execution_count": 21,
      "metadata": {},
      "outputs": [
        {
          "name": "stdout",
          "output_type": "stream",
          "text": [
            "Informe de la misión:\n",
            "    \tDestino de la mision: Luna\n",
            "\n",
            "    \tHora de prelanzamiento: 14 min\n",
            "    \tTiempo de vuelo: 51 min\n",
            "    \tTiempo total: 65 minutos\n",
            "\n",
            "    \tTanque externo: 200000 l\n",
            "    \tTanque interno: 300000 l\n",
            "    \tTotal de tanque: 500000 litros\n"
          ]
        }
      ],
      "source": [
        "# Función con un informe preciso de la misión. Considera hora de prelanzamiento, tiempo de vuelo, destino, tanque externo y tanque interno\n",
        "\n",
        "def reporte_mision(destino,hora_pre,tiempo_vuelo,tanque_ext,tanque_int):\n",
        "    return f\"\"\"Informe de la misión:\n",
        "    \\tDestino de la mision: {destino}\n",
        "\n",
        "    \\tHora de prelanzamiento: {hora_pre} min\n",
        "    \\tTiempo de vuelo: {tiempo_vuelo} min\n",
        "    \\tTiempo total: {hora_pre+tiempo_vuelo} minutos\n",
        "\n",
        "    \\tTanque externo: {tanque_ext} l\n",
        "    \\tTanque interno: {tanque_int} l\n",
        "    \\tTotal de tanque: {tanque_int+tanque_ext} litros\"\"\"\n",
        "\n",
        "print(reporte_mision(\"Luna\",14,51, 200000, 300000))"
      ]
    },
    {
      "cell_type": "markdown",
      "metadata": {},
      "source": [
        "La función es problemática porque no se puede adaptar para minutos adicionales o tanques adicionales de combustible. Hazlo más flexible permitiendo cualquier número de pasos basados en el tiempo y cualquier número de tanques. En lugar de usar `*args` y `**kwargs`, aprovecha el hecho de que puedes usar cualquier nombre que desees. Asegurate que la función sea más legible mediante el uso de nombres de variables que están asociados con las entradas, como `*minutes` y `**fuel_reservoirs`:"
      ]
    },
    {
      "cell_type": "code",
      "execution_count": 23,
      "metadata": {},
      "outputs": [
        {
          "name": "stdout",
          "output_type": "stream",
          "text": [
            "Informe de la misión:\n",
            "    \tDestino de la mision: Luna\n",
            "\n",
            "    \tHora de prelanzamiento: 14 min\n",
            "    \tTiempo de vuelo: 51 min\n",
            "    \tTiempo total: 65 minutos\n",
            "\n",
            "    \tTanque externo: 200000 l\n",
            "    \tTanque interno: 300000 l\n",
            "    \tTotal de tanque: 500000 litros\n"
          ]
        }
      ],
      "source": [
        "# Escribe tu nueva función de reporte considerando lo anterior\n",
        "\n",
        "def reporte_mision(destino,*minutos,**tanques):\n",
        "    return f\"\"\"Informe de la misión:\n",
        "    \\tDestino de la mision: {destino}\n",
        "\n",
        "    \\tHora de prelanzamiento: {minutos[0]} min\n",
        "    \\tTiempo de vuelo: {minutos[1]} min\n",
        "    \\tTiempo total: {sum(minutos)} minutos\n",
        "\n",
        "    \\tTanque externo: {tanques.get('externo')} l\n",
        "    \\tTanque interno: {tanques.get('interno')} l\n",
        "    \\tTotal de tanque: {sum(tanques.values())} litros\"\"\"\n",
        "\n",
        "print(reporte_mision(\"Luna\",14,51, externo=200000, interno=300000))"
      ]
    },
    {
      "cell_type": "markdown",
      "metadata": {},
      "source": [
        "Debido a que el combustible que queda en los tanques es específico de cada tanque, actualiza la función para usar el nombre de cada tanque en el informe:"
      ]
    },
    {
      "cell_type": "code",
      "execution_count": 26,
      "metadata": {},
      "outputs": [
        {
          "name": "stdout",
          "output_type": "stream",
          "text": [
            "Informe de la misión:\n",
            "    \tDestino de la mision: Luna\n",
            "\n",
            "    \tHora de prelanzamiento: 14 min\n",
            "    \tTiempo de vuelo: 51 min\n",
            "    \tTiempo total: 65 minutos\n",
            "    \n",
            "    \tTanque primero: 200000 l\n",
            "\tTanque segundo: 300000 l\n",
            "\tTotal de tanque: 500000 litros\n"
          ]
        }
      ],
      "source": [
        "# Escribe tu nueva función\n",
        "\n",
        "def reporte_mision(destino,*minutos,**tanques):\n",
        "    reporte= f\"\"\"Informe de la misión:\n",
        "    \\tDestino de la mision: {destino}\n",
        "\n",
        "    \\tHora de prelanzamiento: {minutos[0]} min\n",
        "    \\tTiempo de vuelo: {minutos[1]} min\n",
        "    \\tTiempo total: {sum(minutos)} minutos\n",
        "    \n",
        "    \"\"\"\n",
        "\n",
        "    for nombre, litros in tanques.items():\n",
        "        reporte += f\"\\tTanque {nombre}: {litros} l\\n\"\n",
        "    \n",
        "    reporte+=f\"\\tTotal de tanque: {sum(tanques.values())} litros\"\n",
        "\n",
        "    return reporte\n",
        "\n",
        "print(reporte_mision(\"Luna\",14,51, primero=200000, segundo=300000))"
      ]
    },
    {
      "cell_type": "markdown",
      "metadata": {},
      "source": [
        "---\n",
        "\n",
        "Curso Propedútico de Python para Launch X - Innovacción Virtual.\n",
        "\n",
        "Material desarrollado con base en los contenidos de MSLearn y la metáfora de LaunchX, traducción e implementación por: Fernanda Ochoa - Learning Producer de LaunchX.\n",
        "\n",
        "Redes:\n",
        "* GitHub: [FernandaOchoa](https://github.com/FernandaOchoa)\n",
        "* Twitter: [@imonsh](https://twitter.com/imonsh)\n",
        "* Instagram: [fherz8a](https://www.instagram.com/fherz8a/)"
      ]
    }
  ],
  "metadata": {
    "interpreter": {
      "hash": "205095b8b86ea82a021a8fc2ffba2b3bc9f8d0be25999901963b225939f75778"
    },
    "kernelspec": {
      "display_name": "Python 3.8.10 64-bit ('tmp': conda)",
      "name": "python3"
    },
    "language_info": {
      "codemirror_mode": {
        "name": "ipython",
        "version": 3
      },
      "file_extension": ".py",
      "mimetype": "text/x-python",
      "name": "python",
      "nbconvert_exporter": "python",
      "pygments_lexer": "ipython3",
      "version": "3.8.8"
    },
    "nteract": {
      "version": "nteract-front-end@1.0.0"
    },
    "orig_nbformat": 4
  },
  "nbformat": 4,
  "nbformat_minor": 2
}
